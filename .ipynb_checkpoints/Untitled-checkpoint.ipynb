{
 "cells": [
  {
   "cell_type": "markdown",
   "metadata": {},
   "source": [
    "# Resumen: Programming language of the year? Python is standout in latest rankings"
   ]
  },
  {
   "cell_type": "markdown",
   "metadata": {},
   "source": [
    "\n",
    "\n",
    "Este artículo, habla de el gran impacto de Python haciendo varias comparaciones con otros lenguajes como MALTLAB, Android app, etc. El artículo relata que debido a la facilidad de uso del lenguaje, es el primer programa enseñado en las universidades. Además, comenta que es de los mejores lenguajes para análisis estadístico, programaciones web, entre otros. "
   ]
  },
  {
   "cell_type": "markdown",
   "metadata": {},
   "source": [
    "El detalle de este lenguaje es que también es el lenguaje más popular de hackers, lo que puede llegar a ser un gran problema si el uso es malicioso. Al igual que el artículo que leí anteriormente, resaltan que a pesar de que Python es uno de los mejores lenguajes, C y C++ están a la altura de popularidad también."
   ]
  },
  {
   "cell_type": "markdown",
   "metadata": {},
   "source": [
    "Otro de los \"plus\" que tiene Python es lo versatil que es, ya que se pueden desarrollar apps, páginas web, entre otros modelos."
   ]
  },
  {
   "cell_type": "markdown",
   "metadata": {},
   "source": [
    "# Resumen: 5 Reasons you should learn Python now."
   ]
  },
  {
   "cell_type": "markdown",
   "metadata": {},
   "source": [
    "Como los articulos anteriores, este no es la excepcion, habla de lo maravilloso que es Python, incluso comenta que es el lenguaje introductorio más popular en las universiades de Estados Unidos. Python es muy facil de usar, versatil y poderoso, lo que lo hace ideal para principiantes y expertos. Te da la facilidad de concentrarte unicamente en programar sin tener que preocuparte por la sintaxis."
   ]
  },
  {
   "cell_type": "markdown",
   "metadata": {},
   "source": [
    "Su diseño minimalista y practico hace que todo sea muy facil de identificar, lo que te lleva a realizar tu tarea rapidamente. Además de ser muy simple como lenguaje, es muy fácil de descargar y de instalar en cualquier dispositivo.\n"
   ]
  },
  {
   "cell_type": "markdown",
   "metadata": {},
   "source": [
    "Grandes empresas como Google, Dropbox, Spotify y Netflix lo utilizan para sus respectivas necesidades; por ejemplo, Python fue utilizado en Google para partes que requerian el envio rápido y el mantenimiento. "
   ]
  },
  {
   "cell_type": "code",
   "execution_count": null,
   "metadata": {},
   "outputs": [],
   "source": []
  }
 ],
 "metadata": {
  "kernelspec": {
   "display_name": "Python 3",
   "language": "python",
   "name": "python3"
  },
  "language_info": {
   "codemirror_mode": {
    "name": "ipython",
    "version": 3
   },
   "file_extension": ".py",
   "mimetype": "text/x-python",
   "name": "python",
   "nbconvert_exporter": "python",
   "pygments_lexer": "ipython3",
   "version": "3.7.4"
  }
 },
 "nbformat": 4,
 "nbformat_minor": 2
}
